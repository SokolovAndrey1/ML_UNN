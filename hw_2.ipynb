{
 "cells": [
  {
   "cell_type": "markdown",
   "metadata": {},
   "source": [
    "### Обучение полносвязной нейронной сети."
   ]
  },
  {
   "cell_type": "code",
   "execution_count": 82,
   "metadata": {},
   "outputs": [],
   "source": [
    "import numpy as np\n",
    "import matplotlib.pyplot as plt\n",
    "%matplotlib inline\n",
    "import pandas as pd\n",
    "import seaborn as sns\n",
    "import sklearn"
   ]
  },
  {
   "cell_type": "markdown",
   "metadata": {},
   "source": [
    "### Загружаем данные:"
   ]
  },
  {
   "cell_type": "code",
   "execution_count": 83,
   "metadata": {},
   "outputs": [],
   "source": [
    "url = \"https://raw.githubusercontent.com/SokolovAndrey1/ML_UNN/main/garments_worker_productivity.csv\"\n",
    "data_raw = pd.read_csv(url)"
   ]
  },
  {
   "cell_type": "markdown",
   "metadata": {},
   "source": [
    "Исключим лишние данные, закодируем дни недели с помощью числовых, бинаризуем признак отдела и нормализуем данные.\\\n",
    "Подробности были приведены в первой лабораторной работе"
   ]
  },
  {
   "cell_type": "code",
   "execution_count": 84,
   "metadata": {},
   "outputs": [
    {
     "name": "stderr",
     "output_type": "stream",
     "text": [
      "<ipython-input-84-a95618c5c928>:10: SettingWithCopyWarning: \n",
      "A value is trying to be set on a copy of a slice from a DataFrame\n",
      "\n",
      "See the caveats in the documentation: https://pandas.pydata.org/pandas-docs/stable/user_guide/indexing.html#returning-a-view-versus-a-copy\n",
      "  data['actual_productivity'][data[\"actual_productivity\"] <= 0.75] = 0\n"
     ]
    }
   ],
   "source": [
    "data = data_raw\n",
    "\n",
    "data = data.drop(data.loc[:,['date', 'quarter', 'team']], axis = 1)\n",
    "\n",
    "data['department'] = data['department'].astype('category')\n",
    "data['day'] = data['day'].astype('category')\n",
    "\n",
    "data['wip'] = data['wip'].fillna(0)\n",
    "\n",
    "data['actual_productivity'][data[\"actual_productivity\"] <= 0.75] = 0\n",
    "data['actual_productivity'] = data['actual_productivity'].astype('bool')  "
   ]
  },
  {
   "cell_type": "code",
   "execution_count": 85,
   "metadata": {},
   "outputs": [],
   "source": [
    "data['day'] = pd.factorize(data['day'])[0]\n",
    "\n",
    "department_dummies = pd.get_dummies(data['department'])\n",
    "\n",
    "data = data.drop(['department'], axis=1)"
   ]
  },
  {
   "cell_type": "code",
   "execution_count": 86,
   "metadata": {},
   "outputs": [],
   "source": [
    "normalized_data = data.drop(['actual_productivity'], axis=1)\n",
    "\n",
    "normalized_data = (normalized_data - normalized_data.min()) / (normalized_data.max() - normalized_data.min())\n",
    "\n",
    "normalized_data = pd.concat((normalized_data, department_dummies), axis=1)"
   ]
  },
  {
   "cell_type": "code",
   "execution_count": 87,
   "metadata": {},
   "outputs": [],
   "source": [
    "X = normalized_data\n",
    "y = data['actual_productivity']"
   ]
  },
  {
   "cell_type": "markdown",
   "metadata": {},
   "source": [
    "### Разбиваем данные на обучающую и тестовую выборки"
   ]
  },
  {
   "cell_type": "code",
   "execution_count": 88,
   "metadata": {},
   "outputs": [],
   "source": [
    "from sklearn.model_selection import train_test_split\n",
    "X_train, X_test, y_train, y_test = train_test_split(X, y, test_size = 0.33, random_state = 7)\n",
    "N_test, _ = X_test.shape"
   ]
  },
  {
   "cell_type": "markdown",
   "metadata": {},
   "source": [
    "### Обучаем классификатор"
   ]
  },
  {
   "cell_type": "code",
   "execution_count": 89,
   "metadata": {},
   "outputs": [],
   "source": [
    "from sklearn.neural_network import MLPClassifier\n",
    "from sklearn.metrics import accuracy_score"
   ]
  },
  {
   "cell_type": "code",
   "execution_count": null,
   "metadata": {},
   "outputs": [],
   "source": [
    "alpha_arr = np.logspace(-3, 2, 21)\n",
    "test_err = []\n",
    "train_err = []\n",
    "train_acc = []\n",
    "test_acc = []\n",
    "\n",
    "for alpha in alpha_arr:\n",
    "    mlp_model = MLPClassifier(hidden_layer_sizes = (100,), \n",
    "                              solver = 'lbfgs', activation = 'logistic', alpha = alpha, max_iter=1000, random_state = 42)\n",
    "    mlp_model.fit(X_train, y_train)\n",
    "\n",
    "    y_train_pred = mlp_model.predict(X_train)\n",
    "    y_test_pred = mlp_model.predict(X_test)\n",
    "    \n",
    "    train_err.append(np.mean(y_train != y_train_pred))\n",
    "    test_err.append(np.mean(y_test != y_test_pred))\n",
    "    train_acc.append(accuracy_score(y_train, y_train_pred))\n",
    "    test_acc.append(accuracy_score(y_test, y_test_pred))"
   ]
  },
  {
   "cell_type": "code",
   "execution_count": 91,
   "metadata": {},
   "outputs": [
    {
     "data": {
      "text/plain": [
       "<matplotlib.legend.Legend at 0x2814e19b3a0>"
      ]
     },
     "execution_count": 91,
     "metadata": {},
     "output_type": "execute_result"
    },
    {
     "data": {
      "image/png": "[encoded data removed]",
      "text/plain": [
       "<Figure size 432x288 with 1 Axes>"
      ]
     },
     "metadata": {
      "needs_background": "light"
     },
     "output_type": "display_data"
    }
   ],
   "source": [
    "plt.semilogx(alpha_arr, train_err, 'b-o', label = 'train')\n",
    "plt.semilogx(alpha_arr, test_err, 'r-o', label = 'test')\n",
    "plt.xlim([np.min(alpha_arr), np.max(alpha_arr)])\n",
    "plt.title('Error vs. alpha')\n",
    "plt.xlabel('alpha')\n",
    "plt.ylabel('error')\n",
    "plt.legend()"
   ]
  },
  {
   "cell_type": "markdown",
   "metadata": {},
   "source": [
    "Из приведенного графика видно, что при больших значениях alpha происходит недообучение."
   ]
  },
  {
   "cell_type": "code",
   "execution_count": 92,
   "metadata": {},
   "outputs": [
    {
     "name": "stdout",
     "output_type": "stream",
     "text": [
      "0.09113607990012484 0.1893939393939394\n"
     ]
    }
   ],
   "source": [
    "min_train_err = np.min(train_err)\n",
    "min_test_err = np.min(test_err)\n",
    "print(min_train_err, min_test_err)"
   ]
  },
  {
   "cell_type": "code",
   "execution_count": 93,
   "metadata": {},
   "outputs": [
    {
     "name": "stdout",
     "output_type": "stream",
     "text": [
      "[0.01778279]\n"
     ]
    }
   ],
   "source": [
    "alpha_opt = alpha_arr[test_err == min_test_err]\n",
    "print(alpha_opt)"
   ]
  },
  {
   "cell_type": "markdown",
   "metadata": {},
   "source": [
    "Оптимальное значение alpha, соответствующее минимальной ошибке на тестовой выборке"
   ]
  },
  {
   "cell_type": "code",
   "execution_count": 94,
   "metadata": {},
   "outputs": [],
   "source": [
    "alpha_opt = alpha_opt[0]"
   ]
  },
  {
   "cell_type": "markdown",
   "metadata": {},
   "source": [
    "Обучим нейронную сеть с одним скрытым слоем. Будем использовать найденное оптимальное значение alpha и изменять колличество нейронов."
   ]
  },
  {
   "cell_type": "code",
   "execution_count": 95,
   "metadata": {},
   "outputs": [],
   "source": [
    "first_layer = np.array([5, 8, 10, 12, 15, 20, 25, 30, 40, 50, 70, 100])\n",
    "test_err = []\n",
    "train_err = []\n",
    "for first_neurons_num in first_layer:\n",
    "    mlp_model = MLPClassifier(alpha = alpha_opt, hidden_layer_sizes = (first_neurons_num, ), \n",
    "                              solver = 'lbfgs', activation = 'logistic',\n",
    "                              random_state = 42, max_iter = 5000)\n",
    "    mlp_model.fit(X_train, y_train)\n",
    "\n",
    "    y_train_pred = mlp_model.predict(X_train)\n",
    "    y_test_pred = mlp_model.predict(X_test)\n",
    "    train_err.append(np.mean(y_train != y_train_pred))\n",
    "    test_err.append(np.mean(y_test != y_test_pred))"
   ]
  },
  {
   "cell_type": "code",
   "execution_count": 96,
   "metadata": {},
   "outputs": [
    {
     "data": {
      "image/png": "[encoded data removed]",
      "text/plain": [
       "<Figure size 432x288 with 1 Axes>"
      ]
     },
     "metadata": {
      "needs_background": "light"
     },
     "output_type": "display_data"
    }
   ],
   "source": [
    "plt.plot(first_layer, train_err, 'r-o', label = 'train')\n",
    "plt.plot(first_layer, test_err, 'b-o', label = 'test')\n",
    "plt.title('Error vs. Neurons number')\n",
    "plt.xlabel('neurons number')\n",
    "plt.ylabel('error')\n",
    "plt.legend()\n",
    "pass"
   ]
  },
  {
   "cell_type": "markdown",
   "metadata": {},
   "source": [
    "Из выведенного графика видно, что на малом количестве нейронов наблюдается недообучение, поскольку ошибка на обучающей выборке велика относительно более больших значений."
   ]
  },
  {
   "cell_type": "code",
   "execution_count": 97,
   "metadata": {},
   "outputs": [
    {
     "name": "stdout",
     "output_type": "stream",
     "text": [
      "0.1111111111111111 0.1893939393939394\n"
     ]
    }
   ],
   "source": [
    "min_train_err = np.min(train_err)\n",
    "min_test_err = np.min(test_err)\n",
    "print(min_train_err, min_test_err)"
   ]
  },
  {
   "cell_type": "code",
   "execution_count": 98,
   "metadata": {},
   "outputs": [
    {
     "name": "stdout",
     "output_type": "stream",
     "text": [
      "[15 30]\n"
     ]
    }
   ],
   "source": [
    "first_layer_opt = first_layer[test_err == min_test_err]\n",
    "print(first_layer_opt)"
   ]
  },
  {
   "cell_type": "markdown",
   "metadata": {},
   "source": [
    "Теперь обучим нейронную сеть с двумя скрытымм слоями и будем изменять колличество нейронов в двух слоях."
   ]
  },
  {
   "cell_type": "code",
   "execution_count": null,
   "metadata": {},
   "outputs": [],
   "source": [
    "first_layer  = np.array([1, 2, 3, 4, 5, 8, 10, 12, 15, 17, 20, 25, 30, 40])\n",
    "second_layer = np.array([1, 2, 3, 4, 5, 8, 10, 12, 15, 17, 20, 25, 30, 40])\n",
    "array_size = len(first_layer)\n",
    "test_err  = [[0] * array_size] * array_size\n",
    "train_err = [[0] * array_size] * array_size\n",
    "\n",
    "idx = 0\n",
    "jdx = 0\n",
    "\n",
    "for first_neurons_num in first_layer:\n",
    "    for second_neurons_num in second_layer:\n",
    "        mlp_model = MLPClassifier(alpha = alpha_opt, hidden_layer_sizes = (first_neurons_num, second_neurons_num), \n",
    "                                  solver = 'lbfgs', activation = 'logistic',\n",
    "                                  random_state = 42, max_iter = 5000)\n",
    "        mlp_model.fit(X_train, y_train)\n",
    "\n",
    "        y_train_pred = mlp_model.predict(X_train)\n",
    "        y_test_pred = mlp_model.predict(X_test)\n",
    "        train_err[idx][jdx] = np.mean(y_train != y_train_pred)\n",
    "        test_err[idx][jdx] = np.mean(y_test != y_test_pred)\n",
    "        jdx += 1\n",
    "    idx += 1\n",
    "    jdx = 0"
   ]
  },
  {
   "cell_type": "code",
   "execution_count": 114,
   "metadata": {},
   "outputs": [
    {
     "name": "stdout",
     "output_type": "stream",
     "text": [
      "0.04244694132334582 0.19696969696969696\n"
     ]
    }
   ],
   "source": [
    "min_train_errors = [0] * array_size\n",
    "min_test_errors = [0] * array_size\n",
    "\n",
    "for i in range(array_size):\n",
    "    min_train_errors[i] = np.min(train_err[i])\n",
    "    min_test_errors[i] = np.min(test_err[i])\n",
    "\n",
    "min_train_error = np.min(min_train_errors)\n",
    "min_test_error = np.min(min_test_errors)\n",
    "print(min_train_error, min_test_error)"
   ]
  },
  {
   "cell_type": "code",
   "execution_count": 115,
   "metadata": {},
   "outputs": [
    {
     "name": "stdout",
     "output_type": "stream",
     "text": [
      "40 20\n"
     ]
    }
   ],
   "source": [
    "index = [0,0]\n",
    "for idx in range(array_size):\n",
    "    for jdx in range(array_size):\n",
    "        if test_err[idx][jdx] == min_test_error:\n",
    "            index[0] = idx\n",
    "            index[1] = jdx\n",
    "            break\n",
    "print(first_layer[index[0]], second_layer[index[1]])"
   ]
  },
  {
   "cell_type": "markdown",
   "metadata": {},
   "source": [
    "### Вывод\n",
    "В данной работе были проделаны эксперименты с MLP классификатором. Эксперементальным путем были подобраны параметр alpha, количество скрытых слоёв и количество нейронов в скрытом слое. Полученные данные были проанализированы на предмет выявления переобучения и недообучения при различных значениях параметрах."
   ]
  }
 ],
 "metadata": {
  "kernelspec": {
   "display_name": "Python 3",
   "language": "python",
   "name": "python3"
  },
  "language_info": {
   "codemirror_mode": {
    "name": "ipython",
    "version": 3
   },
   "file_extension": ".py",
   "mimetype": "text/x-python",
   "name": "python",
   "nbconvert_exporter": "python",
   "pygments_lexer": "ipython3",
   "version": "3.8.5"
  }
 },
 "nbformat": 4,
 "nbformat_minor": 1
}
